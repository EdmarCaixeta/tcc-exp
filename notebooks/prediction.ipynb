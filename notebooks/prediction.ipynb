{
 "metadata": {
  "language_info": {
   "codemirror_mode": {
    "name": "ipython",
    "version": 3
   },
   "file_extension": ".py",
   "mimetype": "text/x-python",
   "name": "python",
   "nbconvert_exporter": "python",
   "pygments_lexer": "ipython3",
   "version": "3.6.9-final"
  },
  "orig_nbformat": 2,
  "kernelspec": {
   "name": "python3",
   "display_name": "Python 3"
  }
 },
 "nbformat": 4,
 "nbformat_minor": 2,
 "cells": [
  {
   "cell_type": "code",
   "execution_count": 1,
   "metadata": {},
   "outputs": [],
   "source": [
    "import torch \n",
    "import torch.nn as nn\n",
    "from torchvision.models import alexnet"
   ]
  },
  {
   "cell_type": "code",
   "execution_count": null,
   "metadata": {},
   "outputs": [],
   "source": [
    "PATH_TO_CHECKPOINT = \"/home/kenzo/experiments/alexnet-pretrained-super_aug-200ep/fold9/MyAlexNetPretrained_200.pth\"\n",
    "PATH_TO_IMAGES = \"/home/kenzo/datasets/Fake-P2-dataset/\""
   ]
  },
  {
   "cell_type": "code",
   "execution_count": 6,
   "metadata": {},
   "outputs": [],
   "source": [
    "class BaseConvNet(nn.Module):\n",
    "    def __init__(self, name: str = \"Model\",\n",
    "                       features: nn.Sequential = None, \n",
    "                       classifier: nn.Sequential = None):\n",
    "        super().__init__()\n",
    "        self.name = name\n",
    "        self._features = features\n",
    "        self._classifier = classifier\n",
    "    \n",
    "    def forward(self, x: torch.Tensor) -> torch.Tensor:\n",
    "        x = self._features(x)\n",
    "        print(x.shape)\n",
    "        x = self._classifier(x)\n",
    "        \n",
    "        return x\n",
    "\n",
    "\n",
    "class AlexNet(BaseConvNet):\n",
    "    def __init__(self, nClasses):\n",
    "        features = nn.Sequential(\n",
    "            # first layer\n",
    "            nn.Conv2d(3, 96, 11, stride=4),\n",
    "            nn.ReLU(inplace=False),\n",
    "            nn.MaxPool2d(3, stride=2),\n",
    "            # second layer\n",
    "            nn.Conv2d(96, 256, 5, stride=1, padding=2),\n",
    "            nn.ReLU(inplace=False),\n",
    "            nn.MaxPool2d(3, stride=2),\n",
    "            # third layer\n",
    "            nn.Conv2d(256, 384, 3, padding=1),\n",
    "            nn.ReLU(inplace=False),\n",
    "            # fourth layer\n",
    "            nn.Conv2d(384, 384, 3, padding=1),\n",
    "            nn.ReLU(inplace=False),\n",
    "            # fifth layer\n",
    "            nn.Conv2d(384, 256, 3, padding=1),\n",
    "            nn.ReLU(inplace=False),\n",
    "            nn.MaxPool2d(3, stride=2))\n",
    "        \n",
    "        classifier = nn.Sequential(\n",
    "            nn.Flatten(),\n",
    "            nn.Linear(6*6*256, 4096, bias=True),\n",
    "            nn.ReLU(inplace=True),\n",
    "            nn.Linear(4096, 4096, bias=True),\n",
    "            nn.ReLU(inplace=True),\n",
    "            nn.Linear(4096, nClasses, bias=True)\n",
    "        )\n",
    "\n",
    "        super().__init__(\"AlexNet\", features, classifier)"
   ]
  },
  {
   "cell_type": "code",
   "execution_count": 7,
   "metadata": {},
   "outputs": [],
   "source": [
    "def get_imagent_alexNet():\n",
    "    net = alexnet(pretrained=True)\n",
    "    \n",
    "    regressor = nn.Sequential(\n",
    "        nn.Flatten(),\n",
    "        nn.Linear(10*6*256, 4096, bias=True),\n",
    "        nn.ReLU(inplace=True),\n",
    "        nn.Linear(4096, 4096, bias=True),\n",
    "        nn.ReLU(inplace=True),\n",
    "        nn.Linear(4096, 1, bias=True))\n",
    "    net.classifier = regressor\n",
    "\n",
    "    net.name = \"ImagenetAlexNet\"\n",
    "    return net\n",
    "\n",
    "def get_alexNet():\n",
    "    net = AlexNet(1)\n",
    "    \n",
    "    regressor = nn.Sequential(\n",
    "            nn.Flatten(),\n",
    "            nn.Linear(10*6*256, 4096, bias=True),\n",
    "            nn.ReLU(inplace=True),\n",
    "            nn.Linear(4096, 4096, bias=True),\n",
    "            nn.ReLU(inplace=True),\n",
    "            nn.Linear(4096, 1, bias=True))\n",
    "    \n",
    "    net._classifier = regressor\n",
    "\n",
    "    return net\n",
    "\n",
    "def get_myalexnet_pretrained():\n",
    "    net = get_alexNet()\n",
    "    imagenet_alexnet = get_imagent_alexNet()\n",
    "    net._features = imagenet_alexnet.features\n",
    "    net.name = \"MyAlexNetPretrained\"\n",
    "\n",
    "    return net"
   ]
  },
  {
   "cell_type": "code",
   "execution_count": 8,
   "metadata": {},
   "outputs": [],
   "source": [
    "model = get_myalexnet_pretrained() # mas que monstruosidade é essa"
   ]
  },
  {
   "cell_type": "code",
   "execution_count": 9,
   "metadata": {},
   "outputs": [
    {
     "output_type": "execute_result",
     "data": {
      "text/plain": [
       "<All keys matched successfully>"
      ]
     },
     "metadata": {},
     "execution_count": 9
    }
   ],
   "source": [
    "model.load_state_dict(torch.load(PATH_TO_CHECKPOINT)[\"state_dict\"], strict=False)"
   ]
  },
  {
   "cell_type": "code",
   "execution_count": 10,
   "metadata": {},
   "outputs": [
    {
     "output_type": "stream",
     "text": [
      "\u001b[0;31mSignature:\u001b[0m\n",
      "\u001b[0mtorch\u001b[0m\u001b[0;34m.\u001b[0m\u001b[0mload\u001b[0m\u001b[0;34m(\u001b[0m\u001b[0;34m\u001b[0m\n",
      "\u001b[0;34m\u001b[0m    \u001b[0mf\u001b[0m\u001b[0;34m,\u001b[0m\u001b[0;34m\u001b[0m\n",
      "\u001b[0;34m\u001b[0m    \u001b[0mmap_location\u001b[0m\u001b[0;34m=\u001b[0m\u001b[0;32mNone\u001b[0m\u001b[0;34m,\u001b[0m\u001b[0;34m\u001b[0m\n",
      "\u001b[0;34m\u001b[0m    \u001b[0mpickle_module\u001b[0m\u001b[0;34m=\u001b[0m\u001b[0;34m<\u001b[0m\u001b[0mmodule\u001b[0m \u001b[0;34m'pickle'\u001b[0m \u001b[0;32mfrom\u001b[0m \u001b[0;34m'/usr/lib/python3.6/pickle.py'\u001b[0m\u001b[0;34m>\u001b[0m\u001b[0;34m,\u001b[0m\u001b[0;34m\u001b[0m\n",
      "\u001b[0;34m\u001b[0m    \u001b[0;34m**\u001b[0m\u001b[0mpickle_load_args\u001b[0m\u001b[0;34m,\u001b[0m\u001b[0;34m\u001b[0m\n",
      "\u001b[0;34m\u001b[0m\u001b[0;34m)\u001b[0m\u001b[0;34m\u001b[0m\u001b[0;34m\u001b[0m\u001b[0m\n",
      "\u001b[0;31mDocstring:\u001b[0m\n",
      "Loads an object saved with :func:`torch.save` from a file.\n",
      "\n",
      ":func:`torch.load` uses Python's unpickling facilities but treats storages,\n",
      "which underlie tensors, specially. They are first deserialized on the\n",
      "CPU and are then moved to the device they were saved from. If this fails\n",
      "(e.g. because the run time system doesn't have certain devices), an exception\n",
      "is raised. However, storages can be dynamically remapped to an alternative\n",
      "set of devices using the :attr:`map_location` argument.\n",
      "\n",
      "If :attr:`map_location` is a callable, it will be called once for each serialized\n",
      "storage with two arguments: storage and location. The storage argument\n",
      "will be the initial deserialization of the storage, residing on the CPU.\n",
      "Each serialized storage has a location tag associated with it which\n",
      "identifies the device it was saved from, and this tag is the second\n",
      "argument passed to :attr:`map_location`. The builtin location tags are ``'cpu'``\n",
      "for CPU tensors and ``'cuda:device_id'`` (e.g. ``'cuda:2'``) for CUDA tensors.\n",
      ":attr:`map_location` should return either ``None`` or a storage. If\n",
      ":attr:`map_location` returns a storage, it will be used as the final deserialized\n",
      "object, already moved to the right device. Otherwise, :func:`torch.load` will\n",
      "fall back to the default behavior, as if :attr:`map_location` wasn't specified.\n",
      "\n",
      "If :attr:`map_location` is a :class:`torch.device` object or a string containing\n",
      "a device tag, it indicates the location where all tensors should be loaded.\n",
      "\n",
      "Otherwise, if :attr:`map_location` is a dict, it will be used to remap location tags\n",
      "appearing in the file (keys), to ones that specify where to put the\n",
      "storages (values).\n",
      "\n",
      "User extensions can register their own location tags and tagging and\n",
      "deserialization methods using :func:`torch.serialization.register_package`.\n",
      "\n",
      "Args:\n",
      "    f: a file-like object (has to implement :meth:`read`, :meth`readline`, :meth`tell`, and :meth`seek`),\n",
      "        or a string or os.PathLike object containing a file name\n",
      "    map_location: a function, :class:`torch.device`, string or a dict specifying how to remap storage\n",
      "        locations\n",
      "    pickle_module: module used for unpickling metadata and objects (has to\n",
      "        match the :attr:`pickle_module` used to serialize file)\n",
      "    pickle_load_args: (Python 3 only) optional keyword arguments passed over to\n",
      "        :func:`pickle_module.load` and :func:`pickle_module.Unpickler`, e.g.,\n",
      "        :attr:`errors=...`.\n",
      "\n",
      ".. warning::\n",
      "    :func:`torch.load()` uses ``pickle`` module implicitly, which is known to be insecure.\n",
      "    It is possible to construct malicious pickle data which will execute arbitrary code\n",
      "    during unpickling. Never load data that could have come from an untrusted\n",
      "    source, or that could have been tampered with. **Only load data you trust**.\n",
      "\n",
      ".. note::\n",
      "    When you call :func:`torch.load()` on a file which contains GPU tensors, those tensors\n",
      "    will be loaded to GPU by default. You can call ``torch.load(.., map_location='cpu')``\n",
      "    and then :meth:`load_state_dict` to avoid GPU RAM surge when loading a model checkpoint.\n",
      "\n",
      ".. note::\n",
      "    By default, we decode byte strings as ``utf-8``.  This is to avoid a common error\n",
      "    case ``UnicodeDecodeError: 'ascii' codec can't decode byte 0x...``\n",
      "    when loading files saved by Python 2 in Python 3.  If this default\n",
      "    is incorrect, you may use an extra :attr:`encoding` keyword argument to specify how\n",
      "    these objects should be loaded, e.g., :attr:`encoding='latin1'` decodes them\n",
      "    to strings using ``latin1`` encoding, and :attr:`encoding='bytes'` keeps them\n",
      "    as byte arrays which can be decoded later with ``byte_array.decode(...)``.\n",
      "\n",
      "Example:\n",
      "    >>> torch.load('tensors.pt')\n",
      "    # Load all tensors onto the CPU\n",
      "    >>> torch.load('tensors.pt', map_location=torch.device('cpu'))\n",
      "    # Load all tensors onto the CPU, using a function\n",
      "    >>> torch.load('tensors.pt', map_location=lambda storage, loc: storage)\n",
      "    # Load all tensors onto GPU 1\n",
      "    >>> torch.load('tensors.pt', map_location=lambda storage, loc: storage.cuda(1))\n",
      "    # Map tensors from GPU 1 to GPU 0\n",
      "    >>> torch.load('tensors.pt', map_location={'cuda:1':'cuda:0'})\n",
      "    # Load tensor from io.BytesIO object\n",
      "    >>> with open('tensor.pt', 'rb') as f:\n",
      "            buffer = io.BytesIO(f.read())\n",
      "    >>> torch.load(buffer)\n",
      "    # Load a module with 'ascii' encoding for unpickling\n",
      "    >>> torch.load('module.pt', encoding='ascii')\n",
      "\u001b[0;31mFile:\u001b[0m      /home/kenzo/bert/lib/python3.6/site-packages/torch/serialization.py\n",
      "\u001b[0;31mType:\u001b[0m      function\n"
     ],
     "name": "stdout"
    }
   ],
   "source": [
    "?torch.load"
   ]
  },
  {
   "cell_type": "code",
   "execution_count": null,
   "metadata": {},
   "outputs": [],
   "source": []
  }
 ]
}